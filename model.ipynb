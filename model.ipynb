{
 "cells": [
  {
   "cell_type": "markdown",
   "id": "2859d0f9-0164-4bc4-a3ae-7bbad4756379",
   "metadata": {},
   "source": [
    "# Prediciting Heart disease using machine learning"
   ]
  },
  {
   "cell_type": "markdown",
   "id": "dbe938ef-b63d-4ef1-af7a-c47e9b8d06a5",
   "metadata": {},
   "source": [
    "### 🚀 Project Workflow\n",
    "\n",
    "#### 1️⃣ Problem Definition  \n",
    "Clearly define the problem you're aiming to solve.\n",
    "\n",
    "#### 2️⃣ Data  \n",
    "Collect, clean, and explore the dataset.\n",
    "\n",
    "#### 3️⃣ Evaluation  \n",
    "Decide on metrics to evaluate your model (e.g., accuracy, RMSE, F1-score).\n",
    "\n",
    "#### 4️⃣ Features  \n",
    "Engineer and select the most relevant features.\n",
    "\n",
    "#### 5️⃣ Modeling  \n",
    "Train multiple models and fine-tune hyperparameters.\n",
    "\n",
    "#### 6️⃣ Experimentation  \n",
    "Compare results, document findings, and iterate on improvements.\n"
   ]
  },
  {
   "cell_type": "code",
   "execution_count": 2,
   "id": "7032f223-2c49-4a53-8600-4e653379233b",
   "metadata": {},
   "outputs": [],
   "source": [
    "import pandas as pd\n",
    "import numpy as np\n",
    "import matplotlib.pyplot as plt\n",
    "import seaborn as sns\n",
    "\n",
    "%matplotlib inline\n",
    "\n",
    "from sklearn.linear_model import LogisticRegression\n",
    "from sklearn.neighbors import KNeighborsClassifier\n",
    "from sklearn.ensemble import RandomForestClassifier\n",
    "\n",
    "from sklearn.model_selection import train_test_split\n",
    "from sklearn.model_selection import RandomizedSearchCV , GridSearchCV\n",
    "from sklearn.metrics import confusion_matrix , classification_report\n",
    "from sklearn.metrics import precision_score , recall_score , f1_score\n",
    "from sklearn.metrics import RocCurveDisplay\n"
   ]
  },
  {
   "cell_type": "code",
   "execution_count": null,
   "id": "d3df4076-187f-4ee5-9ad2-cdaa97bf877e",
   "metadata": {},
   "outputs": [],
   "source": []
  }
 ],
 "metadata": {
  "kernelspec": {
   "display_name": "Python 3 (ipykernel)",
   "language": "python",
   "name": "python3"
  },
  "language_info": {
   "codemirror_mode": {
    "name": "ipython",
    "version": 3
   },
   "file_extension": ".py",
   "mimetype": "text/x-python",
   "name": "python",
   "nbconvert_exporter": "python",
   "pygments_lexer": "ipython3",
   "version": "3.13.5"
  }
 },
 "nbformat": 4,
 "nbformat_minor": 5
}
